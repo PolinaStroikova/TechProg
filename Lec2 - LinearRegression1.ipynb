{
 "cells": [
  {
   "cell_type": "markdown",
   "id": "e3c2c42b",
   "metadata": {},
   "source": [
    "\n",
    "<a href=\"https://colab.research.google.com/github/OsipovOleg/crash-python-notebooks/blob/master/scientific_computing.ipynb\">\n",
    "  <img src=\"https://colab.research.google.com/assets/colab-badge.svg\" alt=\"Open In Colab\"/>\n",
    "</a>\n"
   ]
  },
  {
   "cell_type": "code",
   "execution_count": 38,
   "id": "14ce298a",
   "metadata": {},
   "outputs": [],
   "source": [
    "import numpy as np\n",
    "import matplotlib.pyplot as plt\n",
    "np.set_printoptions(precision=3)\n",
    "from sklearn.model_selection import train_test_split\n",
    "from numpy.linalg import inv"
   ]
  },
  {
   "cell_type": "markdown",
   "id": "7a9cf54d",
   "metadata": {},
   "source": [
    "Для краткого знакомства с numpy:\n",
    "- [A Quick Introduction to the NumPy Library](https://towardsdatascience.com/a-quick-introduction-to-the-numpy-library-6f61b7dee4db)\n",
    "- [NumPy Cheat Sheet](https://s3.amazonaws.com/assets.datacamp.com/blog_assets/Numpy_Python_Cheat_Sheet.pdf)\n",
    "- [Examples](https://github.com/OsipovOleg/crash-python-notebooks/blob/master/scientific_computing.ipynb)"
   ]
  },
  {
   "cell_type": "markdown",
   "id": "c02ae23b",
   "metadata": {},
   "source": [
    "# 1. Overfitting/Underfitting"
   ]
  },
  {
   "cell_type": "markdown",
   "id": "174b9d63",
   "metadata": {},
   "source": [
    "Рассмотрим здесь задачу восстановления зависимости $y = 2\\sin(x)$ на отрезке $(0,7)$.\n",
    "\n",
    "В качестве модели будем использовать полиномы."
   ]
  },
  {
   "cell_type": "code",
   "execution_count": 39,
   "id": "0a978c47",
   "metadata": {},
   "outputs": [
    {
     "data": {
      "text/plain": [
       "array([0.   , 0.241, 0.483, 0.724, 0.966, 1.207, 1.448, 1.69 , 1.931,\n",
       "       2.172, 2.414, 2.655, 2.897, 3.138, 3.379, 3.621, 3.862, 4.103,\n",
       "       4.345, 4.586])"
      ]
     },
     "execution_count": 39,
     "metadata": {},
     "output_type": "execute_result"
    }
   ],
   "source": [
    "N = 30\n",
    "x = np.linspace(0, 7, N)\n",
    "x[:20]"
   ]
  },
  {
   "cell_type": "code",
   "execution_count": 40,
   "id": "68ae49cf",
   "metadata": {},
   "outputs": [
    {
     "data": {
      "text/plain": [
       "array([ 0.   ,  0.478,  0.928,  1.325,  1.645,  1.869,  1.985,  1.986,\n",
       "        1.872,  1.649,  1.33 ,  0.935,  0.485,  0.007, -0.471, -0.922,\n",
       "       -1.319, -1.641, -1.866, -1.984])"
      ]
     },
     "execution_count": 40,
     "metadata": {},
     "output_type": "execute_result"
    }
   ],
   "source": [
    "y_true = 2*np.sin(x)\n",
    "y_true[:20]"
   ]
  },
  {
   "cell_type": "code",
   "execution_count": 41,
   "id": "d88345b6",
   "metadata": {},
   "outputs": [
    {
     "data": {
      "text/plain": [
       "array([ 0.915, -0.941,  0.485,  0.   ,  1.645, -1.319,  1.869,  0.007,\n",
       "        0.935, -1.653,  0.478,  0.928, -0.492,  1.325, -1.874, -0.015,\n",
       "       -1.866,  1.314, -1.987,  1.986])"
      ]
     },
     "execution_count": 41,
     "metadata": {},
     "output_type": "execute_result"
    }
   ],
   "source": [
    "x_train, x_test, y_true_train, y_true_test = train_test_split(\n",
    "x, y_true, test_size=0.2, random_state=42)\n",
    "\n",
    "y_true_train[:20]"
   ]
  },
  {
   "cell_type": "code",
   "execution_count": 42,
   "id": "07e1ee28",
   "metadata": {},
   "outputs": [
    {
     "data": {
      "text/plain": [
       "array([ 0.464, -0.922, -1.336, -1.641,  1.872,  1.649])"
      ]
     },
     "execution_count": 42,
     "metadata": {},
     "output_type": "execute_result"
    }
   ],
   "source": [
    "y_true_test[:20]"
   ]
  },
  {
   "cell_type": "code",
   "execution_count": 43,
   "id": "b91990b3",
   "metadata": {},
   "outputs": [
    {
     "data": {
      "image/png": "[encoded data removed]",
      "text/plain": [
       "<Figure size 432x288 with 1 Axes>"
      ]
     },
     "metadata": {
      "needs_background": "light"
     },
     "output_type": "display_data"
    }
   ],
   "source": [
    "plt.plot(x, y_true, c='green');"
   ]
  },
  {
   "cell_type": "code",
   "execution_count": 44,
   "id": "362b8586",
   "metadata": {},
   "outputs": [
    {
     "data": {
      "text/plain": [
       "array([ 2.83 ,  0.141,  0.851, -0.043,  3.888, -0.467,  2.507,  0.816,\n",
       "        0.376, -1.767,  0.105,  0.083,  1.072,  0.268, -2.372,  0.59 ,\n",
       "       -2.003, -0.55 , -1.363,  1.419])"
      ]
     },
     "execution_count": 44,
     "metadata": {},
     "output_type": "execute_result"
    }
   ],
   "source": [
    "y = y_true_train + np.random.normal(0, 1, len(y_true_train))\n",
    "y[:20]"
   ]
  },
  {
   "cell_type": "code",
   "execution_count": 45,
   "id": "236fd709",
   "metadata": {},
   "outputs": [
    {
     "data": {
      "image/png": "[encoded data removed]",
      "text/plain": [
       "<Figure size 432x288 with 1 Axes>"
      ]
     },
     "metadata": {
      "needs_background": "light"
     },
     "output_type": "display_data"
    }
   ],
   "source": [
    "plt.scatter(x_train, y)\n",
    "plt.plot(x, y_true, c='green');"
   ]
  },
  {
   "cell_type": "markdown",
   "id": "e82f7b71",
   "metadata": {},
   "source": [
    "## Polinomial Regression"
   ]
  },
  {
   "cell_type": "code",
   "execution_count": 46,
   "id": "3aa1a62a",
   "metadata": {},
   "outputs": [
    {
     "name": "stdout",
     "output_type": "stream",
     "text": [
      "[0.322 0.322 0.322 0.322 0.322 0.322 0.322 0.322 0.322 0.322 0.322 0.322\n",
      " 0.322 0.322 0.322 0.322]\n"
     ]
    }
   ],
   "source": [
    "d = 0\n",
    "model = np.poly1d(np.polyfit(x_train, y, d))\n",
    "x_validation = np.linspace(0, 7, 16)\n",
    "y_pred = model(x_validation)\n",
    "print(y_pred)"
   ]
  },
  {
   "cell_type": "code",
   "execution_count": 47,
   "id": "3109841e",
   "metadata": {},
   "outputs": [
    {
     "name": "stdout",
     "output_type": "stream",
     "text": [
      "1.8285773225643875\n",
      "2.054645775537223\n",
      "-----------\n",
      "1.9879676865911573\n",
      "1.5410049893845932\n",
      "-----------\n",
      "1.9829188454957454\n",
      "1.3027169403752414\n",
      "-----------\n",
      "2.6107612149890342\n",
      "0.19582893036621873\n",
      "-----------\n",
      "2.847035737199429\n",
      "0.10306797091562526\n",
      "-----------\n",
      "3.212376929318166\n",
      "0.3476747312487695\n",
      "-----------\n"
     ]
    },
    {
     "data": {
      "text/plain": [
       "<matplotlib.legend.Legend at 0x7f9578329550>"
      ]
     },
     "execution_count": 47,
     "metadata": {},
     "output_type": "execute_result"
    },
    {
     "data": {
      "image/png": "[encoded data removed]",
      "text/plain": [
       "<Figure size 432x288 with 1 Axes>"
      ]
     },
     "metadata": {
      "needs_background": "light"
     },
     "output_type": "display_data"
    }
   ],
   "source": [
    "for d in range(6):  \n",
    "    model = np.poly1d(np.polyfit(x_train, y, d))\n",
    "\n",
    "    x_validation = np.linspace(0, 7, len(y_true_train))\n",
    "    y_pred = model(x_validation)\n",
    "\n",
    "    plt.scatter(x_train, y)\n",
    "    plt.plot(x_validation, y_pred, label = d);\n",
    "    plt.plot(x, y_true, c='green'); \n",
    "\n",
    "    mse = np.mean((y_true_train - y_pred)**2)\n",
    "    print(mse)\n",
    "\n",
    "    y_pred_test = model(x_test)\n",
    "    mse_test = np.mean((y_true_test - y_pred_test)**2)\n",
    "    print(mse_test)\n",
    "    print(\"-----------\")\n",
    "\n",
    "plt.legend()"
   ]
  },
  {
   "cell_type": "code",
   "execution_count": 48,
   "id": "72000d04",
   "metadata": {},
   "outputs": [],
   "source": [
    "#3 чем больше N, тем меньше MSE\n",
    "#4 модель точнее"
   ]
  },
  {
   "cell_type": "code",
   "execution_count": 49,
   "id": "21a1a140",
   "metadata": {},
   "outputs": [
    {
     "name": "stdout",
     "output_type": "stream",
     "text": [
      "0.1083430980768324\n"
     ]
    }
   ],
   "source": [
    "#5\n",
    "baseline = np.mean(y_true_train)\n",
    "print(baseline)"
   ]
  },
  {
   "cell_type": "code",
   "execution_count": 56,
   "id": "bd674a51",
   "metadata": {},
   "outputs": [
    {
     "name": "stdout",
     "output_type": "stream",
     "text": [
      "-0.025493800440907988\n",
      "-0.1148823256853555\n",
      "-0.11205085928857517\n",
      "-0.46415434959467117\n",
      "-0.596660672810525\n",
      "-0.8015495352831497\n"
     ]
    }
   ],
   "source": [
    "for d in range(6):  \n",
    "    model = np.poly1d(np.polyfit(x_train, y, d))\n",
    "\n",
    "    x_validation = np.linspace(0, 7, len(y_true_train))\n",
    "    y_pred = model(x_validation)\n",
    "    \n",
    "    sumVal1 = 0\n",
    "    for i in range(len(y_pred)): sumVal1 += (y_pred[i] - y_true_train[i])**2\n",
    "\n",
    "    sumVal2 = 0\n",
    "    for i in range(len(y_true_train)): sumVal2 += (y_true_train[i] - baseline)**2\n",
    "    R_2 = 1 - sumVal1 / sumVal2\n",
    "    print(R_2)"
   ]
  },
  {
   "cell_type": "markdown",
   "id": "7661f56e",
   "metadata": {},
   "source": [
    "### Задания: \n",
    "\n",
    "1. Разбить выборку на train/test в некотором соотношении. \n",
    "2. Вычислить для различных значений $d$ (степень полинома) MSE на train/test. Построить кривые MSE для train/test при различных значениях $d$. \n",
    "3. Как изменяется качество модели, если в нее добавить больше данных (увеличить $N$)? Привести несколько примеров. \n",
    "4. Какие выводы можно сделать из пунктов 2 и 3. Как влияет сложность модели и количество данных на переобучение (overfitting)? \n",
    "\n",
    "Еще одной метрикой качества, которую можно использовать в задаче регрессии, является коэффициент детерминации (coefficient of determination), который показывет долю объясненной дисперсии: \n",
    "\n",
    "$$\n",
    "    R^2 = 1 - \\frac{\\sum_{i=1}^{N}(\\hat{y}_i-y_i)^2}{\\sum_{i=1}^{N} (y_i - \\bar{y})^2}\n",
    "$$\n",
    "\n",
    "$\\bar{y}$ - выборочное среднее (самый простой baseline, который можно взять для нашей задачи - самая простая модель, которую затем можно использовать для сравнения с более сложными моделями).\n",
    "\n",
    "5. Определить $R^2$ для различных $d$. Сделать выводы. \n",
    "6. Ранее было указано, что одним из простых baseline для нашей задачи, *может быть* выборочнее среднее. \n",
    "Расмотрим модель, которая для всех объектов возвращает константное значение (полином нулевой степени): \n",
    "\n",
    "$$\n",
    "\\hat{y} (\\textbf{x}) = w_0\n",
    "$$\n",
    "\n",
    "аналитически определить параметры модели ($w_0$), минимизирующие MSE. \n",
    "\n",
    "7. Определить аналогично baseline для MAE. "
   ]
  },
  {
   "cell_type": "code",
   "execution_count": 14,
   "id": "9f9af1b9",
   "metadata": {},
   "outputs": [],
   "source": [
    "#6\n",
    "#  dMSE        1    N                '      1    N\n",
    "# ------- =  - - * sum 2(y - y_pred)   => - - * sum 2(y - y_pred) = 0 => y = y_pred => MSE -> min\n",
    "# dy_pred      N   i=1            y_pred    N   i=1\n",
    "\n",
    "# y - среднее арифм"
   ]
  },
  {
   "cell_type": "code",
   "execution_count": 15,
   "id": "ff0c19d2",
   "metadata": {},
   "outputs": [],
   "source": [
    "#7\n",
    "#  sum i =1 N |y-yi| '       yi - y\n",
    "# (-----------------)   = ---------- => \n",
    "#         N          yi     |yi - y|\n",
    "\n",
    "#  dMAE      1    N          '       yi - y   \n",
    "# ------- =  - * sum |y - yi|   => ----------- = 0 => |yi - y| != 0 && yi - y = 0 (?)\n",
    "#   dyi      N   i=1         yi     |yi - y|  \n",
    "\n",
    "# y - медиана"
   ]
  },
  {
   "cell_type": "markdown",
   "id": "015bf93a",
   "metadata": {},
   "source": [
    "# 2. Linear models\n",
    "## 1. Regression\n",
    "\n",
    "Объекты: $\\textbf{x}_1, \\textbf{x}_2, \\dots, \\textbf{x}_N$\n",
    "\n",
    "Признаки некоторого объекта: $\\textbf{x}=(x_1, \\dots, x_D)$\n",
    "\n",
    "$\\mathcal{D} = (\\textbf{x}_i, y_i)$, $i=1, \\dots, N$ - множество объектов и ответов на них,\n",
    "\n",
    "$\\textbf{X}$ - матрица  объекты-признаки (каждая строка описывает один объект):\n",
    "\n",
    "\n",
    "\n",
    "$$\\textbf{X} = \n",
    "\\begin{bmatrix}\n",
    "x_{1,1} & x_{1,2} & \\dots & x_{1,D}\\\\\n",
    "x_{2,1} & x_{2,2} & \\dots & x_{2,D}\\\\\n",
    "\\dots & \\dots & \\dots & \\dots\\\\\n",
    "x_{N,1} & x_{N,2} & \\dots & x_{N,D}\n",
    "\\end{bmatrix}\n",
    "$$\n",
    "\n",
    "\n",
    "Уравнение регрессии:\n",
    "\n",
    "$$\n",
    "\\hat{y} (\\textbf{x}) = w_0 + w_1x_1 + \\dots + w_D x_D\n",
    "$$\n",
    "\n",
    "здесь $\\hat{y} (\\textbf{x})$ -  предсказание на объекте $\\textbf{x}$. \n",
    "\n",
    "MSE может быть записано в матричной форме:\n",
    "$$\n",
    "\\frac{1}{N}||\\textbf{X}\\textbf{w} - \\textbf{y}||^{2} \\to \\min_{\\textbf{w}}\n",
    "$$\n",
    "\n",
    "Точное решение задачи оптимизации (нормальное уравнение линейной регрессии):\n",
    "\n",
    "$$\n",
    "\\textbf{w}^* = (\\textbf{X}^T \\textbf{X})^{-1} \\textbf{X}^{T} \\textbf{y} \n",
    "$$"
   ]
  },
  {
   "cell_type": "markdown",
   "id": "dd49a7d4",
   "metadata": {},
   "source": [
    "### Задания:\n",
    "1. Для одномерного случая ($D=1$, $\\hat{y} = w_0 + w_1x$) найти вид выражений для $\\textbf{w}^* = (w_0^*, w_1^*)$, минимизирующее MSE. \n"
   ]
  },
  {
   "cell_type": "code",
   "execution_count": 16,
   "id": "d0a576fd",
   "metadata": {},
   "outputs": [],
   "source": [
    "# dMSE         1    N             N\n",
    "# ---- = /// = - * sum 2 xi_l => sum xi_l \n",
    "# dw_l         N   i=1           i=1"
   ]
  },
  {
   "cell_type": "markdown",
   "id": "f6e041c6",
   "metadata": {},
   "source": [
    "Далее рассмотрим следующую модельную задачу и данные, на которых нужно будет выполнять задания.  "
   ]
  },
  {
   "cell_type": "code",
   "execution_count": 17,
   "id": "01d464e3",
   "metadata": {},
   "outputs": [
    {
     "data": {
      "text/plain": [
       "array([[0.847, 0.341, 0.902, 0.711],\n",
       "       [0.027, 0.222, 0.469, 0.298],\n",
       "       [0.725, 0.939, 0.903, 0.859],\n",
       "       [0.81 , 0.546, 0.599, 0.993],\n",
       "       [0.24 , 0.431, 0.71 , 0.024],\n",
       "       [0.189, 0.58 , 0.679, 0.131],\n",
       "       [0.996, 0.963, 0.928, 0.186],\n",
       "       [0.933, 0.452, 0.629, 0.471],\n",
       "       [0.096, 0.931, 0.324, 0.007],\n",
       "       [0.098, 0.521, 0.149, 0.469]])"
      ]
     },
     "execution_count": 17,
     "metadata": {},
     "output_type": "execute_result"
    }
   ],
   "source": [
    "N = 50\n",
    "D = 4\n",
    "# матрица объекты-признаки\n",
    "X = np.random.uniform(0, 1, (N, D))\n",
    "X[:10]"
   ]
  },
  {
   "cell_type": "code",
   "execution_count": 18,
   "id": "cefad021",
   "metadata": {},
   "outputs": [
    {
     "data": {
      "text/plain": [
       "array([[1.   , 0.847, 0.341, 0.902, 0.711],\n",
       "       [1.   , 0.027, 0.222, 0.469, 0.298],\n",
       "       [1.   , 0.725, 0.939, 0.903, 0.859],\n",
       "       [1.   , 0.81 , 0.546, 0.599, 0.993],\n",
       "       [1.   , 0.24 , 0.431, 0.71 , 0.024],\n",
       "       [1.   , 0.189, 0.58 , 0.679, 0.131],\n",
       "       [1.   , 0.996, 0.963, 0.928, 0.186],\n",
       "       [1.   , 0.933, 0.452, 0.629, 0.471],\n",
       "       [1.   , 0.096, 0.931, 0.324, 0.007],\n",
       "       [1.   , 0.098, 0.521, 0.149, 0.469]])"
      ]
     },
     "execution_count": 18,
     "metadata": {},
     "output_type": "execute_result"
    }
   ],
   "source": [
    "#  Добавим единичный признак (для w_0)\n",
    "D += 1\n",
    "x_ones = np.ones((N, 1))\n",
    "X = np.hstack((x_ones, X))\n",
    "X[:10]"
   ]
  },
  {
   "cell_type": "code",
   "execution_count": 19,
   "id": "caba7b81",
   "metadata": {},
   "outputs": [
    {
     "data": {
      "text/plain": [
       "array([[ 7.613],\n",
       "       [-1.079],\n",
       "       [ 3.628],\n",
       "       [-3.286],\n",
       "       [ 8.02 ]])"
      ]
     },
     "execution_count": 19,
     "metadata": {},
     "output_type": "execute_result"
    }
   ],
   "source": [
    "# Вектор весов\n",
    "w_true = np.random.uniform(low=-5, high=10, size=(D, 1))\n",
    "w_true"
   ]
  },
  {
   "cell_type": "code",
   "execution_count": 20,
   "id": "c0d3cbfc",
   "metadata": {},
   "outputs": [
    {
     "data": {
      "text/plain": [
       "array([[10.671],\n",
       "       [ 9.232],\n",
       "       [14.159],\n",
       "       [14.714],\n",
       "       [ 6.776],\n",
       "       [ 8.331],\n",
       "       [ 8.477],\n",
       "       [ 9.952],\n",
       "       [ 9.88 ],\n",
       "       [12.672]])"
      ]
     },
     "execution_count": 20,
     "metadata": {},
     "output_type": "execute_result"
    }
   ],
   "source": [
    "# Целевая переменная (target)\n",
    "# y = w0 + w1*x_1 + ... + wD*xD\n",
    "y = X@w_true\n",
    "y[:10]"
   ]
  },
  {
   "cell_type": "markdown",
   "id": "8726e9df",
   "metadata": {},
   "source": [
    "Получили следующие вектора и матрицы:  X, y, w_true. "
   ]
  },
  {
   "cell_type": "markdown",
   "id": "73084375",
   "metadata": {},
   "source": [
    "### Задания:\n",
    "2. Используя нормальное уравнение линейной регресси, найти значение $\\textbf{w}^*$. "
   ]
  },
  {
   "cell_type": "code",
   "execution_count": 21,
   "id": "4918aa57",
   "metadata": {},
   "outputs": [
    {
     "data": {
      "text/plain": [
       "array([[ 7.613],\n",
       "       [-1.079],\n",
       "       [ 3.628],\n",
       "       [-3.286],\n",
       "       [ 8.02 ]])"
      ]
     },
     "execution_count": 21,
     "metadata": {},
     "output_type": "execute_result"
    }
   ],
   "source": [
    "#2\n",
    "\n",
    "#W*\n",
    "x_transpon = X.transpose()\n",
    "x_transpon[:10]\n",
    "\n",
    "tempVal = inv(x_transpon.dot(X))\n",
    "tempVal2 = tempVal.dot(x_transpon)\n",
    "tempVal2.dot(y)"
   ]
  },
  {
   "cell_type": "markdown",
   "id": "4b4bd28e",
   "metadata": {},
   "source": [
    "## 2.1 Gradient descent"
   ]
  },
  {
   "cell_type": "markdown",
   "id": "8229816b",
   "metadata": {},
   "source": [
    "$$\n",
    "    \\textbf{w}^{(k)} = \\textbf{w}^{(k-1)} - \\alpha_k \\nabla Q\\left(\\textbf{w}^{(k-1)}\\right)\n",
    "$$"
   ]
  },
  {
   "cell_type": "markdown",
   "id": "10f09075",
   "metadata": {},
   "source": [
    "### Задания: \n",
    "\n",
    "3. Реализовать метод градиентного спуска для одной из указанных функций [Wiki: Тестовые функции для оптимизации](https://ru.wikipedia.org/wiki/%D0%A2%D0%B5%D1%81%D1%82%D0%BE%D0%B2%D1%8B%D0%B5_%D1%84%D1%83%D0%BD%D0%BA%D1%86%D0%B8%D0%B8_%D0%B4%D0%BB%D1%8F_%D0%BE%D0%BF%D1%82%D0%B8%D0%BC%D0%B8%D0%B7%D0%B0%D1%86%D0%B8%D0%B8)\n",
    "\n",
    "4.  Определить вид градиента в случае MSE. Применить метод градиентного спуска для поиска весов линейной регрессии для представленных выше данных.\n",
    "Построить график зависимости эмпирического риска $Q(\\textbf{w}^{(k)})$ от шага $k$.\n",
    "Сравнить с точным решением. "
   ]
  },
  {
   "cell_type": "code",
   "execution_count": 22,
   "id": "edfafe9f",
   "metadata": {},
   "outputs": [],
   "source": [
    "# y"
   ]
  },
  {
   "cell_type": "code",
   "execution_count": 23,
   "id": "d45449c5",
   "metadata": {},
   "outputs": [],
   "source": [
    "#3 - 4\n",
    "l = []\n",
    "\n",
    "def gradient_descent(\n",
    "    gradient, start, learn_rate, n_iter = 100, tolerance = 1e-06 ):\n",
    "    vector = start\n",
    "    for _ in range(n_iter):\n",
    "        diff = - learn_rate * gradient(vector)\n",
    "        if np.all(np.abs(diff) <= tolerance):\n",
    "            break\n",
    "        # функция которую оценить - MSE, пересчитывать с новыми векторами, \n",
    "        # собирать в массив, по этому массиву построить график\n",
    "        l.append(vector.copy())\n",
    "        \n",
    "        # print ('vector = ', vector)\n",
    "        # print ('gradient = ', gradient(vector))\n",
    "        # print ('diff =', diff)\n",
    "        vector += diff\n",
    "    return vector\n",
    "\n",
    "#3\n",
    "# x_opt = gradient_descent(gradient = lambda x: x, start = np.array([1.0, 2.0]), learn_rate = 0.2)\n",
    "\n",
    "# x_opt[0]**2 + x_opt[1]**2"
   ]
  },
  {
   "cell_type": "code",
   "execution_count": 24,
   "id": "afc35674",
   "metadata": {},
   "outputs": [
    {
     "data": {
      "text/plain": [
       "array([[ 7.613],\n",
       "       [-1.079],\n",
       "       [ 3.628],\n",
       "       [-3.286],\n",
       "       [ 8.02 ]])"
      ]
     },
     "execution_count": 24,
     "metadata": {},
     "output_type": "execute_result"
    }
   ],
   "source": [
    "w_true"
   ]
  },
  {
   "cell_type": "code",
   "execution_count": 25,
   "id": "1828137d",
   "metadata": {},
   "outputs": [],
   "source": [
    "# X"
   ]
  },
  {
   "cell_type": "code",
   "execution_count": 26,
   "id": "c63ef679",
   "metadata": {},
   "outputs": [
    {
     "data": {
      "text/plain": [
       "array([[0.],\n",
       "       [0.],\n",
       "       [0.],\n",
       "       [0.],\n",
       "       [0.]])"
      ]
     },
     "execution_count": 26,
     "metadata": {},
     "output_type": "execute_result"
    }
   ],
   "source": [
    "def grad_MSE (w): \n",
    "    y_pred = X @ w\n",
    "    eps = - 2 * (y - y_pred)\n",
    "    # print(eps.shape)\n",
    "    grad = eps.transpose() @ X\n",
    "    return grad.transpose()\n",
    "\n",
    "grad_MSE(w_true)"
   ]
  },
  {
   "cell_type": "code",
   "execution_count": 27,
   "id": "489cecff",
   "metadata": {},
   "outputs": [
    {
     "data": {
      "text/plain": [
       "array([[ 5.743],\n",
       "       [ 0.2  ],\n",
       "       [ 4.197],\n",
       "       [-0.437],\n",
       "       [ 6.269]])"
      ]
     },
     "execution_count": 27,
     "metadata": {},
     "output_type": "execute_result"
    }
   ],
   "source": [
    "#4\n",
    "l = []\n",
    "\n",
    "wes = gradient_descent(gradient = grad_MSE, start = w_true * 0, learn_rate = 0.00001, n_iter= 10000)\n",
    "\n",
    "wes"
   ]
  },
  {
   "cell_type": "code",
   "execution_count": 28,
   "id": "8f55b902",
   "metadata": {},
   "outputs": [],
   "source": [
    "# l"
   ]
  },
  {
   "cell_type": "code",
   "execution_count": 29,
   "id": "979b4cc1",
   "metadata": {},
   "outputs": [],
   "source": [
    "p = []\n",
    "\n",
    "for i in range (len (l)):\n",
    "    p.append( np.mean((y - X.dot(l[i]))**2) )"
   ]
  },
  {
   "cell_type": "code",
   "execution_count": 30,
   "id": "05020296",
   "metadata": {},
   "outputs": [
    {
     "data": {
      "image/png": "[encoded data removed]",
      "text/plain": [
       "<Figure size 432x288 with 1 Axes>"
      ]
     },
     "metadata": {
      "needs_background": "light"
     },
     "output_type": "display_data"
    }
   ],
   "source": [
    "plt.plot(p, c='green');"
   ]
  },
  {
   "cell_type": "markdown",
   "id": "85dca640",
   "metadata": {},
   "source": [
    "# 2.2 Stochastic gradient descent  (SGD)"
   ]
  },
  {
   "cell_type": "markdown",
   "id": "fee24e25",
   "metadata": {},
   "source": [
    "$$\n",
    "\\nabla Q(\\textbf{w}) \\approx \\frac{1}{n}\\sum_{k=1}^{n} \\nabla l_{i_k}(\\textbf{w})\n",
    "$$"
   ]
  },
  {
   "cell_type": "markdown",
   "id": "58696136",
   "metadata": {},
   "source": [
    "5.  Применить метод стохастического градиентного спуска для поиска весов линейной регрессии (при разных размерах батча) для представленных выше данных.\n",
    "Построить график зависимости эмпирического риска $Q(w(k))$ от шага $k$. Сравнить скорость сходимости с методом градиентного спуска. \n",
    "Сравнить с точным решением. "
   ]
  },
  {
   "cell_type": "code",
   "execution_count": 31,
   "id": "4350b410",
   "metadata": {},
   "outputs": [
    {
     "data": {
      "text/plain": [
       "array([[ 7.613],\n",
       "       [-1.079],\n",
       "       [ 3.628],\n",
       "       [-3.286],\n",
       "       [ 8.02 ]])"
      ]
     },
     "execution_count": 31,
     "metadata": {},
     "output_type": "execute_result"
    }
   ],
   "source": [
    "w_true"
   ]
  },
  {
   "cell_type": "code",
   "execution_count": 32,
   "id": "1dac4cb5",
   "metadata": {},
   "outputs": [
    {
     "name": "stdout",
     "output_type": "stream",
     "text": [
      "[[ 7.612]\n",
      " [-1.078]\n",
      " [ 3.628]\n",
      " [-3.286]\n",
      " [ 8.02 ]]\n",
      "[[ 7.613]\n",
      " [-1.079]\n",
      " [ 3.628]\n",
      " [-3.286]\n",
      " [ 8.02 ]]\n"
     ]
    }
   ],
   "source": [
    "l = []\n",
    "\n",
    "def stohast_grad_MSE (w):\n",
    "    i = np.random.randint(0, len(X)) \n",
    "    y_pred = X[i].dot(w)\n",
    "    eps = - 2 * (y[i] - y_pred)\n",
    "    # print(eps.shape)\n",
    "    grad = eps * X[i]\n",
    "    # print(grad.reshape(-1, 1))\n",
    "    return grad.reshape(-1, 1)\n",
    "\n",
    "\n",
    "def stohast_gradient_descent(\n",
    "    gradient, start, learn_rate, n_iter = 100, tolerance = 1e-06 ):\n",
    "    vector = start\n",
    "    for _ in range(n_iter):\n",
    "        diff = - learn_rate * gradient(vector)\n",
    "        if np.all(np.abs(diff) <= tolerance):\n",
    "            break\n",
    "        l.append(vector.copy())\n",
    "        \n",
    "        # print ('vector = ', vector)\n",
    "        # print ('gradient = ', gradient(vector))\n",
    "        # print ('diff =', diff)\n",
    "\n",
    "        vector += diff\n",
    "    return vector\n",
    "\n",
    "        \n",
    "test = stohast_gradient_descent(gradient = stohast_grad_MSE, start = w_true * 0, learn_rate = 0.1, n_iter= 100000)\n",
    "\n",
    "print(test)\n",
    "print(w_true)"
   ]
  },
  {
   "cell_type": "code",
   "execution_count": 33,
   "id": "e2b9bdba",
   "metadata": {},
   "outputs": [],
   "source": [
    "p = []\n",
    "\n",
    "for i in range (len (l)):\n",
    "    p.append( np.mean((y - X.dot(l[i]))**2) )"
   ]
  },
  {
   "cell_type": "code",
   "execution_count": 34,
   "id": "a803cab1",
   "metadata": {},
   "outputs": [
    {
     "data": {
      "image/png": "[encoded data removed]",
      "text/plain": [
       "<Figure size 432x288 with 1 Axes>"
      ]
     },
     "metadata": {
      "needs_background": "light"
     },
     "output_type": "display_data"
    }
   ],
   "source": [
    "plt.plot(p, c='green');"
   ]
  },
  {
   "cell_type": "code",
   "execution_count": null,
   "id": "16528553",
   "metadata": {},
   "outputs": [],
   "source": []
  }
 ],
 "metadata": {
  "interpreter": {
   "hash": "b3ba2566441a7c06988d0923437866b63cedc61552a5af99d1f4fb67d367b25f"
  },
  "kernelspec": {
   "display_name": "Python 3 (ipykernel)",
   "language": "python",
   "name": "python3"
  },
  "language_info": {
   "codemirror_mode": {
    "name": "ipython",
    "version": 3
   },
   "file_extension": ".py",
   "mimetype": "text/x-python",
   "name": "python",
   "nbconvert_exporter": "python",
   "pygments_lexer": "ipython3",
   "version": "3.8.8"
  }
 },
 "nbformat": 4,
 "nbformat_minor": 5
}
